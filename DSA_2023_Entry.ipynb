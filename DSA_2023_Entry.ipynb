{
 "cells": [
  {
   "cell_type": "code",
   "execution_count": 2,
   "metadata": {
    "deletable": false,
    "editable": false
   },
   "outputs": [],
   "source": [
    "# Initialize Otter\n",
    "import otter\n",
    "grader = otter.Notebook(\"DSA_2023_Entry.ipynb\")"
   ]
  },
  {
   "cell_type": "markdown",
   "metadata": {
    "id": "B1DroRwx3ENZ"
   },
   "source": [
    "## DSA 2023 Summer School Admittance Check\n",
    "\n",
    "Thanks for your interest in attending DSA Kigali 2023. To attend the summer school you have to have some level of basic Python proficiency. Completing the following notebook should ensure you have the right kind of background to benefit maximally from the Summer School. See you in Kigali!"
   ]
  },
  {
   "cell_type": "code",
   "execution_count": 3,
   "metadata": {
    "id": "7Upwjh9U3ENa"
   },
   "outputs": [],
   "source": [
    "# Run these once ... Just in case \n",
    "# !pip install nose \n",
    "# !pip install otter-grader\n",
    "import IPython\n",
    "from IPython import get_ipython\n",
    "# Import the good stuff\n",
    "import pandas as pd\n",
    "import numpy as np\n",
    "import math\n",
    "from nose.tools import assert_equal\n",
    "import otter\n",
    "grader = otter.Notebook()"
   ]
  },
  {
   "cell_type": "markdown",
   "metadata": {
    "id": "6ibmmx8r3ENc"
   },
   "source": [
    "**Question 1:** Write a Python function to return a tuple of primes and non primes given an integer input "
   ]
  },
  {
   "cell_type": "code",
   "execution_count": 4,
   "metadata": {
    "id": "CWjGPqaO3ENc",
    "tags": []
   },
   "outputs": [
    {
     "name": "stdout",
     "output_type": "stream",
     "text": [
      "Following are the prime and non prime numbers smaller than or equal to 30\n",
      "((2, 3, 5, 7, 11, 13, 17, 19, 23, 29), (4, 6, 8, 9, 10, 12, 14, 15, 16, 18, 20, 21, 22, 24, 25, 26, 27, 28, 30))\n"
     ]
    }
   ],
   "source": [
    "def is_prime(num):\n",
    "    '''\n",
    "    Accepts a number as a parameter and returns true if that number is a prime number and false otherwise.\n",
    "    A prime number is defined as a number which is only divisible by one and itself.\n",
    "    '''\n",
    "    for i in range(2, num):\n",
    "        if num % i == 0:\n",
    "            return False\n",
    "    return True\n",
    "\n",
    "def sieve(num):\n",
    "    primes = []\n",
    "    non_primes = []\n",
    "\n",
    "    for i in range(2, num + 1):\n",
    "        if is_prime(i):\n",
    "            primes.append(i)\n",
    "        else:\n",
    "            non_primes.append(i)\n",
    "            \n",
    "    nums = (tuple(primes), tuple(non_primes))\n",
    "    return nums\n",
    "\n",
    "num = 30\n",
    "print(\"Following are the prime and non prime numbers smaller than or equal to\", num)\n",
    "print(sieve(num))"
   ]
  },
  {
   "cell_type": "code",
   "execution_count": 5,
   "metadata": {
    "deletable": false,
    "editable": false
   },
   "outputs": [
    {
     "data": {
      "text/html": [
       "<p><strong><pre style='display: inline;'>q1</pre></strong> passed! 💯</p>"
      ],
      "text/plain": [
       "q1 results: All test cases passed!"
      ]
     },
     "execution_count": 5,
     "metadata": {},
     "output_type": "execute_result"
    }
   ],
   "source": [
    "grader.check(\"q1\")"
   ]
  },
  {
   "cell_type": "markdown",
   "metadata": {
    "id": "ntYqVxEQ3ENd"
   },
   "source": [
    "**Question 2:** Create a dictionary to store the type and number of unique characters in the paragraph provided"
   ]
  },
  {
   "cell_type": "code",
   "execution_count": 9,
   "metadata": {
    "id": "LlZ8GC4J3ENe",
    "tags": []
   },
   "outputs": [
    {
     "name": "stdout",
     "output_type": "stream",
     "text": [
      "{'T': 3, 'h': 17, 'e': 89, ' ': 192, 'f': 26, 'o': 68, 'l': 35, 'w': 16, 'i': 60, 'n': 42, 'g': 14, 's': 57, 'a': 48, 'm': 20, 'p': 11, 't': 65, 'x': 3, 'I': 1, 'u': 26, 'd': 27, 'r': 45, 'c': 31, 'k': 9, 'y': 19, 'b': 11, '.': 12, ':': 2, '1': 11, '2': 10, '3': 13, '4': 5, '5': 3, '6': 3, '7': 10, '8': 3, '9': 2, 'S': 2, 'V': 1, '’': 3, '0': 22, ',': 7, '(': 3, ')': 3, 'q': 3, 'A': 2, 'v': 4, 'F': 1, '-': 4, '{': 2, '}': 2, 'O': 3, '[': 1, ']': 1, 'W': 1, '<': 1, 'N': 1, '>': 1, '`': 2, '*': 4, '^': 4, '“': 1, '”': 1, '‘': 1, 'E': 1, '/': 1, '\\\\': 1}\n"
     ]
    }
   ],
   "source": [
    "paragraph = \"The following is sample text I used to practice special characters using keybr.com: 112233445566778899 Saturn V rocket’s first stage carries 203,400 gallons (770,000 liters) of kerosene fuel and 318,000 gallons (1.2 million liters) of liquid oxygen needed for combustion. At liftoff, the stage’s five F-1 rocket engines ignite and produce 7.5 million pounds of thrust. To replace those goofy quantities with the far less retarded metric system (even though liters are considered part of the metric system they are the same as cubic deci-meters) you would say 770 cubic meters of kerosene {abbreviated as m3} and 1,204 m3 of liquid O2 [O2 is the symbol for oxygen]. We would also say it produced 33,600,000 newtons of force <abbreviated as N>. To add scientific notation {a way of writing numbers that allows you to write only as many digits `of specificity` as you would like} you can write 7.7 * 10 ^ 2 m3 of kerosene 1.204 * 10 ^ 3 m3 of O2 and 3.3 * 10 ^ 7 newtons. Another way to write scientific notation is to replace the “* 10 ^” with ‘E’ -/capital e\\-. So our numbers would look like:s\"\n",
    "\n",
    "dictionary = {}\n",
    "for word in paragraph:\n",
    "    if word in dictionary:\n",
    "        dictionary[word] = dictionary[word] + 1\n",
    "    else:\n",
    "        dictionary[word] = 1\n",
    "\n",
    "print(dictionary)"
   ]
  },
  {
   "cell_type": "code",
   "execution_count": 6,
   "metadata": {
    "deletable": false,
    "editable": false
   },
   "outputs": [
    {
     "data": {
      "text/html": [
       "<p><strong><pre style='display: inline;'>q2</pre></strong> passed! 🍀</p>"
      ],
      "text/plain": [
       "q2 results: All test cases passed!"
      ]
     },
     "execution_count": 6,
     "metadata": {},
     "output_type": "execute_result"
    }
   ],
   "source": [
    "grader.check(\"q2\")"
   ]
  },
  {
   "cell_type": "markdown",
   "metadata": {
    "id": "ylvPVW8m3ENe"
   },
   "source": [
    "**Question 3:** Extract the values from the dictionary above into a list"
   ]
  },
  {
   "cell_type": "code",
   "execution_count": 14,
   "metadata": {
    "id": "I50ccd1SJMn4",
    "tags": []
   },
   "outputs": [
    {
     "name": "stdout",
     "output_type": "stream",
     "text": [
      "dict_values([3, 17, 89, 192, 26, 68, 35, 16, 60, 42, 14, 57, 48, 20, 11, 65, 3, 1, 26, 27, 45, 31, 9, 19, 11, 12, 2, 11, 10, 13, 5, 3, 3, 10, 3, 2, 2, 1, 3, 22, 7, 3, 3, 3, 2, 4, 1, 4, 2, 2, 3, 1, 1, 1, 1, 1, 1, 2, 4, 4, 1, 1, 1, 1, 1, 1])\n"
     ]
    }
   ],
   "source": [
    "keysList = dictionary.values()\n",
    "print (keysList)"
   ]
  },
  {
   "cell_type": "code",
   "execution_count": 10,
   "metadata": {
    "deletable": false,
    "editable": false
   },
   "outputs": [
    {
     "data": {
      "text/html": [
       "<p><strong><pre style='display: inline;'>q3</pre></strong> passed! 🍀</p>"
      ],
      "text/plain": [
       "q3 results: All test cases passed!"
      ]
     },
     "execution_count": 10,
     "metadata": {},
     "output_type": "execute_result"
    }
   ],
   "source": [
    "grader.check(\"q3\")"
   ]
  },
  {
   "cell_type": "markdown",
   "metadata": {
    "id": "hucvAvprJMn5"
   },
   "source": [
    "**Question 4:** Extract the keys from the dictionary above into a list"
   ]
  },
  {
   "cell_type": "code",
   "execution_count": 11,
   "metadata": {
    "id": "wLHoBNERJMn5",
    "tags": []
   },
   "outputs": [
    {
     "name": "stdout",
     "output_type": "stream",
     "text": [
      "dict_keys(['T', 'h', 'e', ' ', 'f', 'o', 'l', 'w', 'i', 'n', 'g', 's', 'a', 'm', 'p', 't', 'x', 'I', 'u', 'd', 'r', 'c', 'k', 'y', 'b', '.', ':', '1', '2', '3', '4', '5', '6', '7', '8', '9', 'S', 'V', '’', '0', ',', '(', ')', 'q', 'A', 'v', 'F', '-', '{', '}', 'O', '[', ']', 'W', '<', 'N', '>', '`', '*', '^', '“', '”', '‘', 'E', '/', '\\\\'])\n"
     ]
    }
   ],
   "source": [
    "valuesList = dictionary.keys()\n",
    "print (valuesList)"
   ]
  },
  {
   "cell_type": "code",
   "execution_count": 12,
   "metadata": {
    "deletable": false,
    "editable": false
   },
   "outputs": [
    {
     "data": {
      "text/html": [
       "<p><strong><pre style='display: inline;'>q4</pre></strong> passed! 💯</p>"
      ],
      "text/plain": [
       "q4 results: All test cases passed!"
      ]
     },
     "execution_count": 12,
     "metadata": {},
     "output_type": "execute_result"
    }
   ],
   "source": [
    "grader.check(\"q4\")"
   ]
  },
  {
   "cell_type": "markdown",
   "metadata": {
    "id": "9PpnMsGpJMn5"
   },
   "source": [
    "**Question 5:** Merge the two lists into a tuple"
   ]
  },
  {
   "cell_type": "code",
   "execution_count": 15,
   "metadata": {
    "id": "UDWWh3vQJMn5",
    "tags": []
   },
   "outputs": [
    {
     "name": "stdout",
     "output_type": "stream",
     "text": [
      "(('T', 'h', 'e', ' ', 'f', 'o', 'l', 'w', 'i', 'n', 'g', 's', 'a', 'm', 'p', 't', 'x', 'I', 'u', 'd', 'r', 'c', 'k', 'y', 'b', '.', ':', '1', '2', '3', '4', '5', '6', '7', '8', '9', 'S', 'V', '’', '0', ',', '(', ')', 'q', 'A', 'v', 'F', '-', '{', '}', 'O', '[', ']', 'W', '<', 'N', '>', '`', '*', '^', '“', '”', '‘', 'E', '/', '\\\\'), (3, 17, 89, 192, 26, 68, 35, 16, 60, 42, 14, 57, 48, 20, 11, 65, 3, 1, 26, 27, 45, 31, 9, 19, 11, 12, 2, 11, 10, 13, 5, 3, 3, 10, 3, 2, 2, 1, 3, 22, 7, 3, 3, 3, 2, 4, 1, 4, 2, 2, 3, 1, 1, 1, 1, 1, 1, 2, 4, 4, 1, 1, 1, 1, 1, 1))\n"
     ]
    }
   ],
   "source": [
    "final_tuple = (tuple(valuesList), tuple(keysList))\n",
    "print(final_tuple)"
   ]
  },
  {
   "cell_type": "code",
   "execution_count": 16,
   "metadata": {
    "deletable": false,
    "editable": false
   },
   "outputs": [
    {
     "data": {
      "text/html": [
       "<p><strong><pre style='display: inline;'>q5</pre></strong> passed! ✨</p>"
      ],
      "text/plain": [
       "q5 results: All test cases passed!"
      ]
     },
     "execution_count": 16,
     "metadata": {},
     "output_type": "execute_result"
    }
   ],
   "source": [
    "grader.check(\"q5\")"
   ]
  },
  {
   "cell_type": "markdown",
   "metadata": {},
   "source": [
    "**Question 6:**  Write a function `greatest_common_divisor` that takes two inputs `a` and `b` and returns the greatest common divisor of the two numbers. E.g. input `(10, 15)` would return `5`"
   ]
  },
  {
   "cell_type": "code",
   "execution_count": 17,
   "metadata": {
    "tags": []
   },
   "outputs": [],
   "source": [
    "def greatest_common_divisor(a, b):\n",
    "    smaller_num = min(a, b)\n",
    "    gcd = 1\n",
    "\n",
    "    for i in range(2, smaller_num):\n",
    "        if a % i == 0 and b % i == 0:\n",
    "            gcd = i\n",
    "    \n",
    "    return gcd"
   ]
  },
  {
   "cell_type": "code",
   "execution_count": 18,
   "metadata": {
    "deletable": false,
    "editable": false
   },
   "outputs": [
    {
     "data": {
      "text/html": [
       "<p><strong><pre style='display: inline;'>q6</pre></strong> passed! ✨</p>"
      ],
      "text/plain": [
       "q6 results: All test cases passed!"
      ]
     },
     "execution_count": 18,
     "metadata": {},
     "output_type": "execute_result"
    }
   ],
   "source": [
    "grader.check(\"q6\")"
   ]
  },
  {
   "cell_type": "markdown",
   "metadata": {},
   "source": [
    "**Question 7:**  Write a function `get_nearest_farthest` that takes in a point of interest (pt) and a list of points and returns the nearest point and the farthest point from the point of intest."
   ]
  },
  {
   "cell_type": "code",
   "execution_count": 19,
   "metadata": {
    "tags": []
   },
   "outputs": [],
   "source": [
    "def distance_between_points(a, b):\n",
    "    '''\n",
    "    Accepts two points in 2D space, a & b and uses the Euclidean distance formula to calculate the distance between them.\n",
    "    '''\n",
    "    return math.sqrt((b[0] - a[0])**2 + (b[1] - a[1])**2)\n",
    "\n",
    "def get_nearest_farthest(pt, ptlist):\n",
    "    max_distance = float('-inf')\n",
    "    min_distance = float('inf')\n",
    "    closest_point = ()\n",
    "    furthest_point = ()\n",
    "    \n",
    "    for i in ptlist:\n",
    "        curr_distance = distance_between_points(pt, i)\n",
    "        \n",
    "        if curr_distance > max_distance:\n",
    "            max_distance = curr_distance\n",
    "            furthest_point = i\n",
    "        if curr_distance < min_distance:\n",
    "            min_distance = curr_distance\n",
    "            closest_point = i\n",
    "    \n",
    "    return (closest_point, furthest_point)"
   ]
  },
  {
   "cell_type": "code",
   "execution_count": 20,
   "metadata": {
    "deletable": false,
    "editable": false
   },
   "outputs": [
    {
     "data": {
      "text/html": [
       "<p><strong><pre style='display: inline;'>q7</pre></strong> passed! 🙌</p>"
      ],
      "text/plain": [
       "q7 results: All test cases passed!"
      ]
     },
     "execution_count": 20,
     "metadata": {},
     "output_type": "execute_result"
    }
   ],
   "source": [
    "grader.check(\"q7\")"
   ]
  },
  {
   "cell_type": "markdown",
   "metadata": {},
   "source": [
    "**Question 8:**  Write a function `perfectly_divisible` to return a list of numbers between 0 and a number $N$ that are perfectly divisible by $q$ (with out leaving a remainder). <br>\n",
    "**Hint**: $N$ should also be inclusive in the numbers being considered. If N is negative use N == 20"
   ]
  },
  {
   "cell_type": "code",
   "execution_count": 21,
   "metadata": {
    "tags": []
   },
   "outputs": [],
   "source": [
    "def perfectly_divisible(N, q):\n",
    "    if N < 0:\n",
    "        N = 20\n",
    "    \n",
    "    divisible_nums = []\n",
    "    for i in range(N + 1):\n",
    "        if i % q == 0:\n",
    "            divisible_nums.append(i)\n",
    "\n",
    "    return divisible_nums"
   ]
  },
  {
   "cell_type": "code",
   "execution_count": 22,
   "metadata": {
    "deletable": false,
    "editable": false
   },
   "outputs": [
    {
     "data": {
      "text/html": [
       "<p><strong><pre style='display: inline;'>q8</pre></strong> passed! 💯</p>"
      ],
      "text/plain": [
       "q8 results: All test cases passed!"
      ]
     },
     "execution_count": 22,
     "metadata": {},
     "output_type": "execute_result"
    }
   ],
   "source": [
    "grader.check(\"q8\")"
   ]
  },
  {
   "cell_type": "markdown",
   "metadata": {},
   "source": [
    "**Question 9:**  Write a function `flatten_lists` that takes in a list of lists and outputs a sorted list of elements of sublists of the input list (confusing right?) <br>\n",
    "Example: given `flatten_lists([[2,13,44], [6,7]])` it should return `[2,6,7,13,44]`"
   ]
  },
  {
   "cell_type": "code",
   "execution_count": 23,
   "metadata": {
    "tags": []
   },
   "outputs": [],
   "source": [
    "def flatten_lists(superlist):\n",
    "    flattened_list = []\n",
    "\n",
    "    for sublist in superlist:\n",
    "        for i in sublist:\n",
    "            flattened_list.append(i)\n",
    "\n",
    "    return sorted(flattened_list)"
   ]
  },
  {
   "cell_type": "code",
   "execution_count": 24,
   "metadata": {
    "deletable": false,
    "editable": false
   },
   "outputs": [
    {
     "data": {
      "text/html": [
       "<p><strong><pre style='display: inline;'>q9</pre></strong> passed! ✨</p>"
      ],
      "text/plain": [
       "q9 results: All test cases passed!"
      ]
     },
     "execution_count": 24,
     "metadata": {},
     "output_type": "execute_result"
    }
   ],
   "source": [
    "grader.check(\"q9\")"
   ]
  },
  {
   "cell_type": "markdown",
   "metadata": {},
   "source": [
    "**The Extra Mile!** "
   ]
  },
  {
   "cell_type": "markdown",
   "metadata": {
    "id": "_egf664jJMn5"
   },
   "source": [
    "**Download the dataset \"Nakuru Sensor Data for February 2023 from https://open.africa/dataset/sensorsafrica-airquality-archive-nakuru/resource/14165682-37dd-4f40-914e-eb24619e4ef8\"**\n",
    "\n",
    "Load the 'timestamp','value_type' and 'value' collumns into a pandas dataframe "
   ]
  },
  {
   "cell_type": "code",
   "execution_count": 3,
   "metadata": {
    "id": "r2lE0yrPJMn5"
   },
   "outputs": [
    {
     "name": "stdout",
     "output_type": "stream",
     "text": [
      "                              timestamp   value_type  value\n",
      "0      2023-02-04T04:22:51.323124+00:00     humidity    100\n",
      "1      2023-02-04T04:22:51.323124+00:00  temperature     12\n",
      "2      2023-02-04T04:22:51.323125+00:00           P2     27\n",
      "3      2023-02-04T04:22:51.323125+00:00           P1     59\n",
      "4      2023-02-04T04:25:32.354784+00:00     humidity    100\n",
      "...                                 ...          ...    ...\n",
      "42985  2023-02-24T07:51:55.687329+00:00  temperature     27\n",
      "42986  2023-02-24T07:54:35.530536+00:00     humidity     59\n",
      "42987  2023-02-24T07:54:35.530536+00:00  temperature     27\n",
      "42988  2023-02-24T07:54:35.530545+00:00           P2      0\n",
      "42989  2023-02-24T07:54:35.530545+00:00           P1      0\n",
      "\n",
      "[42990 rows x 3 columns]\n"
     ]
    }
   ],
   "source": [
    "import pandas as pd\n",
    "from functools import reduce\n",
    "\n",
    "#Load the 'timestamp','value_type' and 'value' collumns into a pandas dataframe \n",
    "\n",
    "df = pd.read_csv(r'Nakuru_Sensor_Data_Feb_2023.csv',usecols=['timestamp','value_type','value'], sep=';')\n",
    "\n",
    "print(df)"
   ]
  },
  {
   "cell_type": "markdown",
   "metadata": {
    "id": "Er6lemMeJMn5"
   },
   "source": [
    "**Question E1:** Create a new collumn 'timestamp_new' from 'timestamp' rounded off to the second "
   ]
  },
  {
   "cell_type": "code",
   "execution_count": 4,
   "metadata": {
    "id": "sQq3JIaVJMn5",
    "tags": []
   },
   "outputs": [
    {
     "name": "stdout",
     "output_type": "stream",
     "text": [
      "                              timestamp   value_type  value   \n",
      "0      2023-02-04T04:22:51.323124+00:00     humidity    100  \\\n",
      "1      2023-02-04T04:22:51.323124+00:00  temperature     12   \n",
      "2      2023-02-04T04:22:51.323125+00:00           P2     27   \n",
      "3      2023-02-04T04:22:51.323125+00:00           P1     59   \n",
      "4      2023-02-04T04:25:32.354784+00:00     humidity    100   \n",
      "...                                 ...          ...    ...   \n",
      "42985  2023-02-24T07:51:55.687329+00:00  temperature     27   \n",
      "42986  2023-02-24T07:54:35.530536+00:00     humidity     59   \n",
      "42987  2023-02-24T07:54:35.530536+00:00  temperature     27   \n",
      "42988  2023-02-24T07:54:35.530545+00:00           P2      0   \n",
      "42989  2023-02-24T07:54:35.530545+00:00           P1      0   \n",
      "\n",
      "                  timestamp_new  \n",
      "0     2023-02-04 04:22:51+00:00  \n",
      "1     2023-02-04 04:22:51+00:00  \n",
      "2     2023-02-04 04:22:51+00:00  \n",
      "3     2023-02-04 04:22:51+00:00  \n",
      "4     2023-02-04 04:25:32+00:00  \n",
      "...                         ...  \n",
      "42985 2023-02-24 07:51:56+00:00  \n",
      "42986 2023-02-24 07:54:36+00:00  \n",
      "42987 2023-02-24 07:54:36+00:00  \n",
      "42988 2023-02-24 07:54:36+00:00  \n",
      "42989 2023-02-24 07:54:36+00:00  \n",
      "\n",
      "[42990 rows x 4 columns]\n"
     ]
    }
   ],
   "source": [
    "df['timestamp_new']=pd.to_datetime(df['timestamp']).dt.round('S') # seconds\n",
    "print(df)"
   ]
  },
  {
   "cell_type": "markdown",
   "metadata": {
    "id": "_HM8DysCJMn6"
   },
   "source": [
    "**Question E2:** Split the dataframe based on the 'value_type' collumn"
   ]
  },
  {
   "cell_type": "code",
   "execution_count": 5,
   "metadata": {
    "id": "z3NUYMOZJMn6",
    "tags": []
   },
   "outputs": [],
   "source": [
    "grouped = df.groupby(by='value_type', as_index=False).apply(lambda x: x)\n",
    "df_temperature = df[df['value_type']=='temperature']\n",
    "df_humidity = df[df['value_type']=='humidity']\n",
    "df_P1 = df[df['value_type']=='P1']\n",
    "df_P2 = df[df['value_type']=='P2']"
   ]
  },
  {
   "cell_type": "markdown",
   "metadata": {
    "id": "YAEsAuUvJMn6"
   },
   "source": [
    "**Question E3:** Find the mean, mode and median of the humidity, temperature, P1 and P2 values"
   ]
  },
  {
   "cell_type": "code",
   "execution_count": 6,
   "metadata": {
    "id": "14T6jzZ_JMn6",
    "tags": []
   },
   "outputs": [
    {
     "name": "stdout",
     "output_type": "stream",
     "text": [
      "Temperature\n",
      "Mean =  22.35287548855388 Median =  22.0 Standard Deviation =  7.218686624924896\n",
      "Humidity\n",
      "Mean =  64.31109249953471 Median =  61.0 Standard Deviation =  22.407697062564353\n",
      "P1\n",
      "Mean =  28.508605451669922 Median =  20.0 Standard Deviation =  33.691468361874755\n",
      "P2\n",
      "Mean =  11.30142338822216 Median =  8.0 Standard Deviation =  11.865466667566395\n"
     ]
    }
   ],
   "source": [
    "mu_temp=df_temperature[\"value\"].mean()\n",
    "med_temp = df_temperature[\"value\"].median()\n",
    "sd_temp = df_temperature[\"value\"].std()\n",
    "print(\"Temperature\")\n",
    "print(\"Mean = \",mu_temp, \"Median = \", med_temp, \"Standard Deviation = \", sd_temp)\n",
    "\n",
    "mu_humidity=df_humidity[\"value\"].mean()\n",
    "med_humidity = df_humidity[\"value\"].median()\n",
    "sd_humidity = df_humidity[\"value\"].std()\n",
    "print(\"Humidity\")\n",
    "print(\"Mean = \",mu_humidity, \"Median = \", med_humidity, \"Standard Deviation = \", sd_humidity)\n",
    "\n",
    "mu_P1=df_P1[\"value\"].mean()\n",
    "med_P1 = df_P1[\"value\"].median()\n",
    "sd_P1 = df_P1[\"value\"].std()\n",
    "print(\"P1\")\n",
    "print(\"Mean = \",mu_P1, \"Median = \", med_P1, \"Standard Deviation = \", sd_P1)\n",
    "\n",
    "mu_P2=df_P2[\"value\"].mean()\n",
    "med_P2 = df_P2[\"value\"].median()\n",
    "sd_P2 = df_P2[\"value\"].std()\n",
    "print(\"P2\")\n",
    "print(\"Mean = \",mu_P2, \"Median = \", med_P2, \"Standard Deviation = \", sd_P2)\n"
   ]
  },
  {
   "cell_type": "markdown",
   "metadata": {
    "id": "EKWBykh-JMn6"
   },
   "source": [
    "**Question E4:** Merge the grouped dataframes into one dataframe and save it as newdata.csv"
   ]
  },
  {
   "cell_type": "code",
   "execution_count": 7,
   "metadata": {
    "id": "4mQSIPfhJMn6",
    "tags": []
   },
   "outputs": [
    {
     "name": "stdout",
     "output_type": "stream",
     "text": [
      "                              timestamp value_type_temperature   \n",
      "0      2023-02-04T04:22:51.323124+00:00            temperature  \\\n",
      "1      2023-02-04T04:25:32.354784+00:00            temperature   \n",
      "2      2023-02-04T04:28:12.716734+00:00            temperature   \n",
      "3      2023-02-04T04:30:52.437513+00:00            temperature   \n",
      "4      2023-02-04T04:33:32.677578+00:00            temperature   \n",
      "...                                 ...                    ...   \n",
      "21443  2023-02-24T07:43:55.409324+00:00                    NaN   \n",
      "21444  2023-02-24T07:46:35.195110+00:00                    NaN   \n",
      "21445  2023-02-24T07:49:15.757782+00:00                    NaN   \n",
      "21446  2023-02-24T07:51:55.687147+00:00                    NaN   \n",
      "21447  2023-02-24T07:54:35.530545+00:00                    NaN   \n",
      "\n",
      "       value_temperature             timestamp_new value_type_humidity   \n",
      "0                   12.0 2023-02-04 04:22:51+00:00            humidity  \\\n",
      "1                   11.0 2023-02-04 04:25:32+00:00            humidity   \n",
      "2                   12.0 2023-02-04 04:28:13+00:00            humidity   \n",
      "3                   12.0 2023-02-04 04:30:52+00:00            humidity   \n",
      "4                   12.0 2023-02-04 04:33:33+00:00            humidity   \n",
      "...                  ...                       ...                 ...   \n",
      "21443                NaN 2023-02-24 07:43:55+00:00                 NaN   \n",
      "21444                NaN 2023-02-24 07:46:35+00:00                 NaN   \n",
      "21445                NaN 2023-02-24 07:49:16+00:00                 NaN   \n",
      "21446                NaN 2023-02-24 07:51:56+00:00                 NaN   \n",
      "21447                NaN 2023-02-24 07:54:36+00:00                 NaN   \n",
      "\n",
      "       value_humidity value_type_P1  value_P1 value_type_P2  value_P2  \n",
      "0               100.0           NaN       NaN           NaN       NaN  \n",
      "1               100.0           NaN       NaN           NaN       NaN  \n",
      "2               100.0           NaN       NaN           NaN       NaN  \n",
      "3               100.0           NaN       NaN           NaN       NaN  \n",
      "4               100.0           NaN       NaN           NaN       NaN  \n",
      "...               ...           ...       ...           ...       ...  \n",
      "21443             NaN            P1       0.0            P2       0.0  \n",
      "21444             NaN            P1       7.0            P2       7.0  \n",
      "21445             NaN            P1       1.0            P2       1.0  \n",
      "21446             NaN            P1       0.0            P2       0.0  \n",
      "21447             NaN            P1       0.0            P2       0.0  \n",
      "\n",
      "[21448 rows x 10 columns]\n"
     ]
    }
   ],
   "source": [
    "# df_merged=pd.merge(pd.merge(pd.merge(df_temperature, df_humidity, on=['timestamp', 'timestamp_new']), df_P1, on='timestamp'), df_P2, on='timestamp')\n",
    "df_merged=df_temperature.merge(df_humidity, on=['timestamp', 'timestamp_new'], suffixes=(\"_temperature\", \"_humidity\"), how=\"outer\")\n",
    "df_merged=df_merged.merge(df_P1, on=['timestamp', 'timestamp_new'], suffixes=(\"_humidity\", \"_P1\"), how=\"outer\")\n",
    "df_merged=df_merged.merge(df_P2, on=['timestamp', 'timestamp_new'], suffixes=(\"_P1\", \"_P2\"), how=\"outer\")\n",
    "print(df_merged)\n",
    "\n",
    "from pathlib import Path  \n",
    "filepath = Path('newdata.csv')  \n",
    "filepath.parent.mkdir(parents=True, exist_ok=True)  \n",
    "df_merged.to_csv(filepath)  "
   ]
  },
  {
   "cell_type": "markdown",
   "metadata": {
    "id": "PNLVvAvbJMn6"
   },
   "source": [
    "**Question E5:** Open the new data file and select only 'timestamp_new','value_temperature','value_humidity','value_P1' and 'value_P2' collunms"
   ]
  },
  {
   "cell_type": "code",
   "execution_count": 8,
   "metadata": {
    "id": "4fyxaLq2JMn6",
    "tags": []
   },
   "outputs": [
    {
     "data": {
      "text/html": [
       "<div>\n",
       "<style scoped>\n",
       "    .dataframe tbody tr th:only-of-type {\n",
       "        vertical-align: middle;\n",
       "    }\n",
       "\n",
       "    .dataframe tbody tr th {\n",
       "        vertical-align: top;\n",
       "    }\n",
       "\n",
       "    .dataframe thead th {\n",
       "        text-align: right;\n",
       "    }\n",
       "</style>\n",
       "<table border=\"1\" class=\"dataframe\">\n",
       "  <thead>\n",
       "    <tr style=\"text-align: right;\">\n",
       "      <th></th>\n",
       "      <th>value_temperature</th>\n",
       "      <th>timestamp_new</th>\n",
       "      <th>value_humidity</th>\n",
       "      <th>value_P1</th>\n",
       "      <th>value_P2</th>\n",
       "    </tr>\n",
       "  </thead>\n",
       "  <tbody>\n",
       "    <tr>\n",
       "      <th>0</th>\n",
       "      <td>12.0</td>\n",
       "      <td>2023-02-04 04:22:51+00:00</td>\n",
       "      <td>100.0</td>\n",
       "      <td>NaN</td>\n",
       "      <td>NaN</td>\n",
       "    </tr>\n",
       "    <tr>\n",
       "      <th>1</th>\n",
       "      <td>11.0</td>\n",
       "      <td>2023-02-04 04:25:32+00:00</td>\n",
       "      <td>100.0</td>\n",
       "      <td>NaN</td>\n",
       "      <td>NaN</td>\n",
       "    </tr>\n",
       "    <tr>\n",
       "      <th>2</th>\n",
       "      <td>12.0</td>\n",
       "      <td>2023-02-04 04:28:13+00:00</td>\n",
       "      <td>100.0</td>\n",
       "      <td>NaN</td>\n",
       "      <td>NaN</td>\n",
       "    </tr>\n",
       "    <tr>\n",
       "      <th>3</th>\n",
       "      <td>12.0</td>\n",
       "      <td>2023-02-04 04:30:52+00:00</td>\n",
       "      <td>100.0</td>\n",
       "      <td>NaN</td>\n",
       "      <td>NaN</td>\n",
       "    </tr>\n",
       "    <tr>\n",
       "      <th>4</th>\n",
       "      <td>12.0</td>\n",
       "      <td>2023-02-04 04:33:33+00:00</td>\n",
       "      <td>100.0</td>\n",
       "      <td>NaN</td>\n",
       "      <td>NaN</td>\n",
       "    </tr>\n",
       "    <tr>\n",
       "      <th>...</th>\n",
       "      <td>...</td>\n",
       "      <td>...</td>\n",
       "      <td>...</td>\n",
       "      <td>...</td>\n",
       "      <td>...</td>\n",
       "    </tr>\n",
       "    <tr>\n",
       "      <th>21443</th>\n",
       "      <td>NaN</td>\n",
       "      <td>2023-02-24 07:43:55+00:00</td>\n",
       "      <td>NaN</td>\n",
       "      <td>0.0</td>\n",
       "      <td>0.0</td>\n",
       "    </tr>\n",
       "    <tr>\n",
       "      <th>21444</th>\n",
       "      <td>NaN</td>\n",
       "      <td>2023-02-24 07:46:35+00:00</td>\n",
       "      <td>NaN</td>\n",
       "      <td>7.0</td>\n",
       "      <td>7.0</td>\n",
       "    </tr>\n",
       "    <tr>\n",
       "      <th>21445</th>\n",
       "      <td>NaN</td>\n",
       "      <td>2023-02-24 07:49:16+00:00</td>\n",
       "      <td>NaN</td>\n",
       "      <td>1.0</td>\n",
       "      <td>1.0</td>\n",
       "    </tr>\n",
       "    <tr>\n",
       "      <th>21446</th>\n",
       "      <td>NaN</td>\n",
       "      <td>2023-02-24 07:51:56+00:00</td>\n",
       "      <td>NaN</td>\n",
       "      <td>0.0</td>\n",
       "      <td>0.0</td>\n",
       "    </tr>\n",
       "    <tr>\n",
       "      <th>21447</th>\n",
       "      <td>NaN</td>\n",
       "      <td>2023-02-24 07:54:36+00:00</td>\n",
       "      <td>NaN</td>\n",
       "      <td>0.0</td>\n",
       "      <td>0.0</td>\n",
       "    </tr>\n",
       "  </tbody>\n",
       "</table>\n",
       "<p>21448 rows × 5 columns</p>\n",
       "</div>"
      ],
      "text/plain": [
       "       value_temperature              timestamp_new  value_humidity  value_P1   \n",
       "0                   12.0  2023-02-04 04:22:51+00:00           100.0       NaN  \\\n",
       "1                   11.0  2023-02-04 04:25:32+00:00           100.0       NaN   \n",
       "2                   12.0  2023-02-04 04:28:13+00:00           100.0       NaN   \n",
       "3                   12.0  2023-02-04 04:30:52+00:00           100.0       NaN   \n",
       "4                   12.0  2023-02-04 04:33:33+00:00           100.0       NaN   \n",
       "...                  ...                        ...             ...       ...   \n",
       "21443                NaN  2023-02-24 07:43:55+00:00             NaN       0.0   \n",
       "21444                NaN  2023-02-24 07:46:35+00:00             NaN       7.0   \n",
       "21445                NaN  2023-02-24 07:49:16+00:00             NaN       1.0   \n",
       "21446                NaN  2023-02-24 07:51:56+00:00             NaN       0.0   \n",
       "21447                NaN  2023-02-24 07:54:36+00:00             NaN       0.0   \n",
       "\n",
       "       value_P2  \n",
       "0           NaN  \n",
       "1           NaN  \n",
       "2           NaN  \n",
       "3           NaN  \n",
       "4           NaN  \n",
       "...         ...  \n",
       "21443       0.0  \n",
       "21444       7.0  \n",
       "21445       1.0  \n",
       "21446       0.0  \n",
       "21447       0.0  \n",
       "\n",
       "[21448 rows x 5 columns]"
      ]
     },
     "execution_count": 8,
     "metadata": {},
     "output_type": "execute_result"
    }
   ],
   "source": [
    "new_df = pd.read_csv(r'newdata.csv', usecols=['timestamp_new','value_temperature','value_humidity','value_P1','value_P2'])\n",
    "new_df"
   ]
  },
  {
   "cell_type": "markdown",
   "metadata": {
    "id": "fh5va_ODJMn6"
   },
   "source": [
    "**Question E6:** Replace the missing values in collumns 'value_P1' and 'value_P2' with the mean of the same collumns"
   ]
  },
  {
   "cell_type": "code",
   "execution_count": 9,
   "metadata": {
    "id": "RAm29MW0JMn7",
    "tags": []
   },
   "outputs": [],
   "source": [
    "#Check for missing values \n",
    "missing_values = new_df.isnull()\n",
    "\n",
    "# displaying data only with NaN\n",
    "missing_values = missing_values[(missing_values[\"value_P1\"] == True) | (missing_values[\"value_P2\"] == True)]"
   ]
  },
  {
   "cell_type": "code",
   "execution_count": 10,
   "metadata": {
    "id": "JJ2zFruYJMn7",
    "tags": []
   },
   "outputs": [
    {
     "name": "stdout",
     "output_type": "stream",
     "text": [
      "The mean of P1 28.508605451669922\n",
      "The mean of P2 11.30142338822216\n"
     ]
    },
    {
     "data": {
      "text/html": [
       "<div>\n",
       "<style scoped>\n",
       "    .dataframe tbody tr th:only-of-type {\n",
       "        vertical-align: middle;\n",
       "    }\n",
       "\n",
       "    .dataframe tbody tr th {\n",
       "        vertical-align: top;\n",
       "    }\n",
       "\n",
       "    .dataframe thead th {\n",
       "        text-align: right;\n",
       "    }\n",
       "</style>\n",
       "<table border=\"1\" class=\"dataframe\">\n",
       "  <thead>\n",
       "    <tr style=\"text-align: right;\">\n",
       "      <th></th>\n",
       "      <th>value_temperature</th>\n",
       "      <th>timestamp_new</th>\n",
       "      <th>value_humidity</th>\n",
       "      <th>value_P1</th>\n",
       "      <th>value_P2</th>\n",
       "    </tr>\n",
       "  </thead>\n",
       "  <tbody>\n",
       "    <tr>\n",
       "      <th>0</th>\n",
       "      <td>12.0</td>\n",
       "      <td>2023-02-04 04:22:51+00:00</td>\n",
       "      <td>100.0</td>\n",
       "      <td>28.508605</td>\n",
       "      <td>11.301423</td>\n",
       "    </tr>\n",
       "    <tr>\n",
       "      <th>1</th>\n",
       "      <td>11.0</td>\n",
       "      <td>2023-02-04 04:25:32+00:00</td>\n",
       "      <td>100.0</td>\n",
       "      <td>28.508605</td>\n",
       "      <td>11.301423</td>\n",
       "    </tr>\n",
       "    <tr>\n",
       "      <th>2</th>\n",
       "      <td>12.0</td>\n",
       "      <td>2023-02-04 04:28:13+00:00</td>\n",
       "      <td>100.0</td>\n",
       "      <td>28.508605</td>\n",
       "      <td>11.301423</td>\n",
       "    </tr>\n",
       "    <tr>\n",
       "      <th>3</th>\n",
       "      <td>12.0</td>\n",
       "      <td>2023-02-04 04:30:52+00:00</td>\n",
       "      <td>100.0</td>\n",
       "      <td>28.508605</td>\n",
       "      <td>11.301423</td>\n",
       "    </tr>\n",
       "    <tr>\n",
       "      <th>4</th>\n",
       "      <td>12.0</td>\n",
       "      <td>2023-02-04 04:33:33+00:00</td>\n",
       "      <td>100.0</td>\n",
       "      <td>28.508605</td>\n",
       "      <td>11.301423</td>\n",
       "    </tr>\n",
       "    <tr>\n",
       "      <th>...</th>\n",
       "      <td>...</td>\n",
       "      <td>...</td>\n",
       "      <td>...</td>\n",
       "      <td>...</td>\n",
       "      <td>...</td>\n",
       "    </tr>\n",
       "    <tr>\n",
       "      <th>21443</th>\n",
       "      <td>NaN</td>\n",
       "      <td>2023-02-24 07:43:55+00:00</td>\n",
       "      <td>NaN</td>\n",
       "      <td>0.000000</td>\n",
       "      <td>0.000000</td>\n",
       "    </tr>\n",
       "    <tr>\n",
       "      <th>21444</th>\n",
       "      <td>NaN</td>\n",
       "      <td>2023-02-24 07:46:35+00:00</td>\n",
       "      <td>NaN</td>\n",
       "      <td>7.000000</td>\n",
       "      <td>7.000000</td>\n",
       "    </tr>\n",
       "    <tr>\n",
       "      <th>21445</th>\n",
       "      <td>NaN</td>\n",
       "      <td>2023-02-24 07:49:16+00:00</td>\n",
       "      <td>NaN</td>\n",
       "      <td>1.000000</td>\n",
       "      <td>1.000000</td>\n",
       "    </tr>\n",
       "    <tr>\n",
       "      <th>21446</th>\n",
       "      <td>NaN</td>\n",
       "      <td>2023-02-24 07:51:56+00:00</td>\n",
       "      <td>NaN</td>\n",
       "      <td>0.000000</td>\n",
       "      <td>0.000000</td>\n",
       "    </tr>\n",
       "    <tr>\n",
       "      <th>21447</th>\n",
       "      <td>NaN</td>\n",
       "      <td>2023-02-24 07:54:36+00:00</td>\n",
       "      <td>NaN</td>\n",
       "      <td>0.000000</td>\n",
       "      <td>0.000000</td>\n",
       "    </tr>\n",
       "  </tbody>\n",
       "</table>\n",
       "<p>21448 rows × 5 columns</p>\n",
       "</div>"
      ],
      "text/plain": [
       "       value_temperature              timestamp_new  value_humidity   \n",
       "0                   12.0  2023-02-04 04:22:51+00:00           100.0  \\\n",
       "1                   11.0  2023-02-04 04:25:32+00:00           100.0   \n",
       "2                   12.0  2023-02-04 04:28:13+00:00           100.0   \n",
       "3                   12.0  2023-02-04 04:30:52+00:00           100.0   \n",
       "4                   12.0  2023-02-04 04:33:33+00:00           100.0   \n",
       "...                  ...                        ...             ...   \n",
       "21443                NaN  2023-02-24 07:43:55+00:00             NaN   \n",
       "21444                NaN  2023-02-24 07:46:35+00:00             NaN   \n",
       "21445                NaN  2023-02-24 07:49:16+00:00             NaN   \n",
       "21446                NaN  2023-02-24 07:51:56+00:00             NaN   \n",
       "21447                NaN  2023-02-24 07:54:36+00:00             NaN   \n",
       "\n",
       "        value_P1   value_P2  \n",
       "0      28.508605  11.301423  \n",
       "1      28.508605  11.301423  \n",
       "2      28.508605  11.301423  \n",
       "3      28.508605  11.301423  \n",
       "4      28.508605  11.301423  \n",
       "...          ...        ...  \n",
       "21443   0.000000   0.000000  \n",
       "21444   7.000000   7.000000  \n",
       "21445   1.000000   1.000000  \n",
       "21446   0.000000   0.000000  \n",
       "21447   0.000000   0.000000  \n",
       "\n",
       "[21448 rows x 5 columns]"
      ]
     },
     "execution_count": 10,
     "metadata": {},
     "output_type": "execute_result"
    }
   ],
   "source": [
    "mean_value_P1 = new_df['value_P1'].mean()\n",
    "mean_value_P2 = new_df['value_P2'].mean()\n",
    "\n",
    "print(\"The mean of P1\",mean_value_P1)\n",
    "print(\"The mean of P2\",mean_value_P2)\n",
    "new_df\n",
    "\n",
    "#replace missing values with the mean \n",
    "new_df['value_P1'] = new_df['value_P1'].fillna(mean_value_P1)\n",
    "new_df['value_P2'] = new_df['value_P2'].fillna(mean_value_P2)\n",
    "new_df"
   ]
  },
  {
   "cell_type": "markdown",
   "metadata": {
    "id": "syjHmz-AJMn7"
   },
   "source": [
    "**Question E7:** Compute the correlations between temperature and humidity; P1 and P2 "
   ]
  },
  {
   "cell_type": "code",
   "execution_count": 11,
   "metadata": {
    "id": "agvSVKsEJMn7",
    "tags": []
   },
   "outputs": [
    {
     "name": "stdout",
     "output_type": "stream",
     "text": [
      "Correlation between temparature and humidity -0.9028239849182673\n",
      "Correlation between P1 and P2 0.8756344964409961\n"
     ]
    }
   ],
   "source": [
    "#Correlation between temperature and humidity\n",
    "corr_temp_hum = new_df[\"value_temperature\"].corr(new_df[\"value_humidity\"])\n",
    "\n",
    "print (\"Correlation between temparature and humidity\",corr_temp_hum)\n",
    "\n",
    "#Correlation between P1 and P2\n",
    "corr_p1_p2 = new_df[\"value_P1\"].corr(new_df[\"value_P2\"])\n",
    "\n",
    "print (\"Correlation between P1 and P2\",corr_p1_p2)"
   ]
  },
  {
   "cell_type": "markdown",
   "metadata": {
    "id": "bIy00VyKJMn7"
   },
   "source": [
    "**Question E8:** Create a new dataframe comprising of the average values of the variables by day"
   ]
  },
  {
   "cell_type": "code",
   "execution_count": 15,
   "metadata": {
    "id": "qb_G74GPJMn7",
    "tags": []
   },
   "outputs": [
    {
     "data": {
      "text/html": [
       "<div>\n",
       "<style scoped>\n",
       "    .dataframe tbody tr th:only-of-type {\n",
       "        vertical-align: middle;\n",
       "    }\n",
       "\n",
       "    .dataframe tbody tr th {\n",
       "        vertical-align: top;\n",
       "    }\n",
       "\n",
       "    .dataframe thead th {\n",
       "        text-align: right;\n",
       "    }\n",
       "</style>\n",
       "<table border=\"1\" class=\"dataframe\">\n",
       "  <thead>\n",
       "    <tr style=\"text-align: right;\">\n",
       "      <th></th>\n",
       "      <th>value_temperature</th>\n",
       "      <th>timestamp_new</th>\n",
       "      <th>value_humidity</th>\n",
       "      <th>value_P1</th>\n",
       "      <th>value_P2</th>\n",
       "    </tr>\n",
       "    <tr>\n",
       "      <th>timestamp_new</th>\n",
       "      <th></th>\n",
       "      <th></th>\n",
       "      <th></th>\n",
       "      <th></th>\n",
       "      <th></th>\n",
       "    </tr>\n",
       "  </thead>\n",
       "  <tbody>\n",
       "    <tr>\n",
       "      <th>2023-02-04 00:00:00+00:00</th>\n",
       "      <td>24.314480</td>\n",
       "      <td>2023-02-04 14:11:11.859250688+00:00</td>\n",
       "      <td>53.791855</td>\n",
       "      <td>24.894753</td>\n",
       "      <td>9.029881</td>\n",
       "    </tr>\n",
       "    <tr>\n",
       "      <th>2023-02-05 00:00:00+00:00</th>\n",
       "      <td>21.777778</td>\n",
       "      <td>2023-02-05 12:01:37.739573760+00:00</td>\n",
       "      <td>63.468519</td>\n",
       "      <td>23.653511</td>\n",
       "      <td>8.774298</td>\n",
       "    </tr>\n",
       "    <tr>\n",
       "      <th>2023-02-06 00:00:00+00:00</th>\n",
       "      <td>22.356215</td>\n",
       "      <td>2023-02-06 12:00:12.146567680+00:00</td>\n",
       "      <td>60.747681</td>\n",
       "      <td>26.280277</td>\n",
       "      <td>10.227706</td>\n",
       "    </tr>\n",
       "    <tr>\n",
       "      <th>2023-02-07 00:00:00+00:00</th>\n",
       "      <td>22.609982</td>\n",
       "      <td>2023-02-07 12:01:01.462962944+00:00</td>\n",
       "      <td>65.680222</td>\n",
       "      <td>24.657535</td>\n",
       "      <td>9.715247</td>\n",
       "    </tr>\n",
       "    <tr>\n",
       "      <th>2023-02-08 00:00:00+00:00</th>\n",
       "      <td>22.048237</td>\n",
       "      <td>2023-02-08 12:00:17.769804288+00:00</td>\n",
       "      <td>70.966605</td>\n",
       "      <td>29.617517</td>\n",
       "      <td>12.708257</td>\n",
       "    </tr>\n",
       "    <tr>\n",
       "      <th>2023-02-09 00:00:00+00:00</th>\n",
       "      <td>21.735185</td>\n",
       "      <td>2023-02-09 11:59:13.886722304+00:00</td>\n",
       "      <td>71.505556</td>\n",
       "      <td>29.141245</td>\n",
       "      <td>12.837386</td>\n",
       "    </tr>\n",
       "    <tr>\n",
       "      <th>2023-02-10 00:00:00+00:00</th>\n",
       "      <td>22.472426</td>\n",
       "      <td>2023-02-10 12:01:24.997245184+00:00</td>\n",
       "      <td>63.599265</td>\n",
       "      <td>28.010260</td>\n",
       "      <td>11.434961</td>\n",
       "    </tr>\n",
       "    <tr>\n",
       "      <th>2023-02-11 00:00:00+00:00</th>\n",
       "      <td>22.235185</td>\n",
       "      <td>2023-02-11 11:57:46.281742336+00:00</td>\n",
       "      <td>66.787037</td>\n",
       "      <td>28.157681</td>\n",
       "      <td>11.568552</td>\n",
       "    </tr>\n",
       "    <tr>\n",
       "      <th>2023-02-12 00:00:00+00:00</th>\n",
       "      <td>22.003724</td>\n",
       "      <td>2023-02-12 12:00:18.182665472+00:00</td>\n",
       "      <td>60.225326</td>\n",
       "      <td>25.841205</td>\n",
       "      <td>9.790832</td>\n",
       "    </tr>\n",
       "    <tr>\n",
       "      <th>2023-02-13 00:00:00+00:00</th>\n",
       "      <td>21.717153</td>\n",
       "      <td>2023-02-13 12:02:55.641353984+00:00</td>\n",
       "      <td>56.359489</td>\n",
       "      <td>36.958088</td>\n",
       "      <td>13.906931</td>\n",
       "    </tr>\n",
       "    <tr>\n",
       "      <th>2023-02-14 00:00:00+00:00</th>\n",
       "      <td>22.888683</td>\n",
       "      <td>2023-02-14 12:01:12.760930304+00:00</td>\n",
       "      <td>64.098330</td>\n",
       "      <td>35.797779</td>\n",
       "      <td>13.772617</td>\n",
       "    </tr>\n",
       "    <tr>\n",
       "      <th>2023-02-15 00:00:00+00:00</th>\n",
       "      <td>22.963100</td>\n",
       "      <td>2023-02-15 12:00:50.253703680+00:00</td>\n",
       "      <td>66.583026</td>\n",
       "      <td>33.555213</td>\n",
       "      <td>14.122376</td>\n",
       "    </tr>\n",
       "    <tr>\n",
       "      <th>2023-02-16 00:00:00+00:00</th>\n",
       "      <td>23.207650</td>\n",
       "      <td>2023-02-16 12:04:47.201649920+00:00</td>\n",
       "      <td>67.373406</td>\n",
       "      <td>33.440122</td>\n",
       "      <td>13.329673</td>\n",
       "    </tr>\n",
       "    <tr>\n",
       "      <th>2023-02-17 00:00:00+00:00</th>\n",
       "      <td>22.722222</td>\n",
       "      <td>2023-02-17 11:59:31.864689664+00:00</td>\n",
       "      <td>62.850000</td>\n",
       "      <td>29.940814</td>\n",
       "      <td>11.788199</td>\n",
       "    </tr>\n",
       "    <tr>\n",
       "      <th>2023-02-18 00:00:00+00:00</th>\n",
       "      <td>22.359259</td>\n",
       "      <td>2023-02-18 11:58:50.537534976+00:00</td>\n",
       "      <td>64.177778</td>\n",
       "      <td>32.191046</td>\n",
       "      <td>12.494409</td>\n",
       "    </tr>\n",
       "    <tr>\n",
       "      <th>2023-02-19 00:00:00+00:00</th>\n",
       "      <td>18.178571</td>\n",
       "      <td>2023-02-19 12:58:11.678129408+00:00</td>\n",
       "      <td>79.791209</td>\n",
       "      <td>28.907999</td>\n",
       "      <td>12.228494</td>\n",
       "    </tr>\n",
       "    <tr>\n",
       "      <th>2023-02-20 00:00:00+00:00</th>\n",
       "      <td>22.748175</td>\n",
       "      <td>2023-02-20 12:05:14.886550784+00:00</td>\n",
       "      <td>61.552920</td>\n",
       "      <td>29.468609</td>\n",
       "      <td>11.882228</td>\n",
       "    </tr>\n",
       "    <tr>\n",
       "      <th>2023-02-21 00:00:00+00:00</th>\n",
       "      <td>22.491833</td>\n",
       "      <td>2023-02-21 12:03:53.070780416+00:00</td>\n",
       "      <td>59.882033</td>\n",
       "      <td>31.450756</td>\n",
       "      <td>12.176754</td>\n",
       "    </tr>\n",
       "    <tr>\n",
       "      <th>2023-02-22 00:00:00+00:00</th>\n",
       "      <td>23.468750</td>\n",
       "      <td>2023-02-22 12:00:11.268698112+00:00</td>\n",
       "      <td>61.586397</td>\n",
       "      <td>27.691725</td>\n",
       "      <td>10.161096</td>\n",
       "    </tr>\n",
       "    <tr>\n",
       "      <th>2023-02-23 00:00:00+00:00</th>\n",
       "      <td>23.608133</td>\n",
       "      <td>2023-02-23 12:00:07.434782720+00:00</td>\n",
       "      <td>60.948244</td>\n",
       "      <td>14.412254</td>\n",
       "      <td>5.709314</td>\n",
       "    </tr>\n",
       "    <tr>\n",
       "      <th>2023-02-24 00:00:00+00:00</th>\n",
       "      <td>16.640449</td>\n",
       "      <td>2023-02-24 03:58:22.985955072+00:00</td>\n",
       "      <td>87.320225</td>\n",
       "      <td>14.509921</td>\n",
       "      <td>5.830487</td>\n",
       "    </tr>\n",
       "  </tbody>\n",
       "</table>\n",
       "</div>"
      ],
      "text/plain": [
       "                           value_temperature   \n",
       "timestamp_new                                  \n",
       "2023-02-04 00:00:00+00:00          24.314480  \\\n",
       "2023-02-05 00:00:00+00:00          21.777778   \n",
       "2023-02-06 00:00:00+00:00          22.356215   \n",
       "2023-02-07 00:00:00+00:00          22.609982   \n",
       "2023-02-08 00:00:00+00:00          22.048237   \n",
       "2023-02-09 00:00:00+00:00          21.735185   \n",
       "2023-02-10 00:00:00+00:00          22.472426   \n",
       "2023-02-11 00:00:00+00:00          22.235185   \n",
       "2023-02-12 00:00:00+00:00          22.003724   \n",
       "2023-02-13 00:00:00+00:00          21.717153   \n",
       "2023-02-14 00:00:00+00:00          22.888683   \n",
       "2023-02-15 00:00:00+00:00          22.963100   \n",
       "2023-02-16 00:00:00+00:00          23.207650   \n",
       "2023-02-17 00:00:00+00:00          22.722222   \n",
       "2023-02-18 00:00:00+00:00          22.359259   \n",
       "2023-02-19 00:00:00+00:00          18.178571   \n",
       "2023-02-20 00:00:00+00:00          22.748175   \n",
       "2023-02-21 00:00:00+00:00          22.491833   \n",
       "2023-02-22 00:00:00+00:00          23.468750   \n",
       "2023-02-23 00:00:00+00:00          23.608133   \n",
       "2023-02-24 00:00:00+00:00          16.640449   \n",
       "\n",
       "                                                timestamp_new  value_humidity   \n",
       "timestamp_new                                                                   \n",
       "2023-02-04 00:00:00+00:00 2023-02-04 14:11:11.859250688+00:00       53.791855  \\\n",
       "2023-02-05 00:00:00+00:00 2023-02-05 12:01:37.739573760+00:00       63.468519   \n",
       "2023-02-06 00:00:00+00:00 2023-02-06 12:00:12.146567680+00:00       60.747681   \n",
       "2023-02-07 00:00:00+00:00 2023-02-07 12:01:01.462962944+00:00       65.680222   \n",
       "2023-02-08 00:00:00+00:00 2023-02-08 12:00:17.769804288+00:00       70.966605   \n",
       "2023-02-09 00:00:00+00:00 2023-02-09 11:59:13.886722304+00:00       71.505556   \n",
       "2023-02-10 00:00:00+00:00 2023-02-10 12:01:24.997245184+00:00       63.599265   \n",
       "2023-02-11 00:00:00+00:00 2023-02-11 11:57:46.281742336+00:00       66.787037   \n",
       "2023-02-12 00:00:00+00:00 2023-02-12 12:00:18.182665472+00:00       60.225326   \n",
       "2023-02-13 00:00:00+00:00 2023-02-13 12:02:55.641353984+00:00       56.359489   \n",
       "2023-02-14 00:00:00+00:00 2023-02-14 12:01:12.760930304+00:00       64.098330   \n",
       "2023-02-15 00:00:00+00:00 2023-02-15 12:00:50.253703680+00:00       66.583026   \n",
       "2023-02-16 00:00:00+00:00 2023-02-16 12:04:47.201649920+00:00       67.373406   \n",
       "2023-02-17 00:00:00+00:00 2023-02-17 11:59:31.864689664+00:00       62.850000   \n",
       "2023-02-18 00:00:00+00:00 2023-02-18 11:58:50.537534976+00:00       64.177778   \n",
       "2023-02-19 00:00:00+00:00 2023-02-19 12:58:11.678129408+00:00       79.791209   \n",
       "2023-02-20 00:00:00+00:00 2023-02-20 12:05:14.886550784+00:00       61.552920   \n",
       "2023-02-21 00:00:00+00:00 2023-02-21 12:03:53.070780416+00:00       59.882033   \n",
       "2023-02-22 00:00:00+00:00 2023-02-22 12:00:11.268698112+00:00       61.586397   \n",
       "2023-02-23 00:00:00+00:00 2023-02-23 12:00:07.434782720+00:00       60.948244   \n",
       "2023-02-24 00:00:00+00:00 2023-02-24 03:58:22.985955072+00:00       87.320225   \n",
       "\n",
       "                            value_P1   value_P2  \n",
       "timestamp_new                                    \n",
       "2023-02-04 00:00:00+00:00  24.894753   9.029881  \n",
       "2023-02-05 00:00:00+00:00  23.653511   8.774298  \n",
       "2023-02-06 00:00:00+00:00  26.280277  10.227706  \n",
       "2023-02-07 00:00:00+00:00  24.657535   9.715247  \n",
       "2023-02-08 00:00:00+00:00  29.617517  12.708257  \n",
       "2023-02-09 00:00:00+00:00  29.141245  12.837386  \n",
       "2023-02-10 00:00:00+00:00  28.010260  11.434961  \n",
       "2023-02-11 00:00:00+00:00  28.157681  11.568552  \n",
       "2023-02-12 00:00:00+00:00  25.841205   9.790832  \n",
       "2023-02-13 00:00:00+00:00  36.958088  13.906931  \n",
       "2023-02-14 00:00:00+00:00  35.797779  13.772617  \n",
       "2023-02-15 00:00:00+00:00  33.555213  14.122376  \n",
       "2023-02-16 00:00:00+00:00  33.440122  13.329673  \n",
       "2023-02-17 00:00:00+00:00  29.940814  11.788199  \n",
       "2023-02-18 00:00:00+00:00  32.191046  12.494409  \n",
       "2023-02-19 00:00:00+00:00  28.907999  12.228494  \n",
       "2023-02-20 00:00:00+00:00  29.468609  11.882228  \n",
       "2023-02-21 00:00:00+00:00  31.450756  12.176754  \n",
       "2023-02-22 00:00:00+00:00  27.691725  10.161096  \n",
       "2023-02-23 00:00:00+00:00  14.412254   5.709314  \n",
       "2023-02-24 00:00:00+00:00  14.509921   5.830487  "
      ]
     },
     "execution_count": 15,
     "metadata": {},
     "output_type": "execute_result"
    }
   ],
   "source": [
    "new_df['timestamp_new'] = pd.to_datetime(new_df['timestamp_new'])\n",
    "new_df.set_index(\"timestamp_new\")\n",
    "new_df.index = new_df[\"timestamp_new\"]\n",
    "# df_daily = df.resample('D').mean()\n",
    "means_feb = new_df.resample(\"D\").mean()\n",
    "means_feb"
   ]
  },
  {
   "cell_type": "markdown",
   "metadata": {
    "id": "jXrFVTUPJMn7"
   },
   "source": [
    "**Question E9:** Download the dataset \"Nakuru Sensor Data for November 2021 from https://open.africa/dataset/sensorsafrica-airquality-archive-nakuru/resource/1f11351e-156b-4e4c-a063-b86a6ee07c4a\"\n",
    "\n",
    "Load the data into a pandas dataframe and develop a dataframe similar to what you have just done in Question no's 6 - 13 above"
   ]
  },
  {
   "cell_type": "code",
   "execution_count": null,
   "metadata": {
    "id": "ooqx8xuoJMn7",
    "tags": []
   },
   "outputs": [],
   "source": [
    "...\n",
    "means_nov = ...\n",
    "means_nov"
   ]
  },
  {
   "cell_type": "markdown",
   "metadata": {
    "id": "gS7RRkZpnYqa"
   },
   "source": [
    "**Question E10:** Convert the means_feb and means_nov to numpy arrays ... and then compute the average of each collumn\n",
    "\n",
    "Hint: The results are numpy arrays"
   ]
  },
  {
   "cell_type": "code",
   "execution_count": null,
   "metadata": {
    "id": "hbgK6RQ8nDXw",
    "tags": []
   },
   "outputs": [],
   "source": [
    "feb_numpy_array = ...\n",
    "feb_average = ...\n",
    "feb_average"
   ]
  },
  {
   "cell_type": "code",
   "execution_count": null,
   "metadata": {
    "id": "r6-iwnWSoIDE",
    "tags": []
   },
   "outputs": [],
   "source": [
    "nov_numpy_array = ...\n",
    "nov_average = ...\n",
    "nov_average"
   ]
  },
  {
   "cell_type": "markdown",
   "metadata": {
    "id": "zc6tiksMqSb0"
   },
   "source": [
    "**Question E11:** Write a function to compute the difference in the average temperature, humidity, P1 and P2 between November 2021 and February 2023\n",
    "\n",
    "Hint: The result is a vector of the form [w,x,y,z]"
   ]
  },
  {
   "cell_type": "code",
   "execution_count": null,
   "metadata": {
    "id": "AWCrhXpKqPJQ",
    "tags": []
   },
   "outputs": [],
   "source": [
    "def sub():\n",
    "    ...\n",
    "    return diff\n",
    " \n",
    "# Print the result of the subtraction\n",
    "difference = sub()"
   ]
  },
  {
   "cell_type": "markdown",
   "metadata": {
    "deletable": false,
    "editable": false
   },
   "source": [
    "## Submission\n",
    "\n",
    "Make sure you have run all cells in your notebook in order before running the cell below, so that all images/graphs appear in the output. The cell below will generate a zip file for you to submit. **Please save before exporting!**\n",
    "\n",
    "Upload the generated zip file to the Google sheet please. Uploading work which is not yours will lead to non admittance."
   ]
  },
  {
   "cell_type": "code",
   "execution_count": null,
   "metadata": {
    "deletable": false,
    "editable": false
   },
   "outputs": [],
   "source": [
    "# Save your notebook first, then run this cell to export your submission.\n",
    "grader.export(run_tests=True)"
   ]
  },
  {
   "cell_type": "markdown",
   "metadata": {},
   "source": [
    " "
   ]
  }
 ],
 "metadata": {
  "colab": {
   "provenance": []
  },
  "kernelspec": {
   "display_name": "Python 3 (ipykernel)",
   "language": "python",
   "name": "python3"
  },
  "language_info": {
   "codemirror_mode": {
    "name": "ipython",
    "version": 3
   },
   "file_extension": ".py",
   "mimetype": "text/x-python",
   "name": "python",
   "nbconvert_exporter": "python",
   "pygments_lexer": "ipython3",
   "version": "3.11.2"
  },
  "otter": {
   "OK_FORMAT": true,
   "tests": {
    "q1": {
     "name": "q1",
     "points": 2,
     "suites": [
      {
       "cases": [
        {
         "code": ">>> # BEGIN TEST CONFIG\n>>> points: 2\n>>> # END TEST CONFIG\n>>> def test_primes(sieve):\n...     assert sieve(30) == ((2, 3, 5, 7, 11, 13, 17, 19, 23, 29), (4, 6, 8, 9, 10, 12, 14, 15, 16, 18, 20, 21, 22, 24, 25, 26, 27, 28, 30))\n>>> test_primes(sieve)  \n",
         "hidden": false,
         "locked": false
        }
       ],
       "scored": true,
       "setup": "",
       "teardown": "",
       "type": "doctest"
      }
     ]
    },
    "q2": {
     "name": "q2",
     "points": null,
     "suites": [
      {
       "cases": [
        {
         "code": ">>> # BEGIN TEST CONFIG\n>>> points: 2\n>>> # END TEST CONFIG\n>>> def test_dictionary(Counter):\n...     assert Counter(paragraph) == {' ': 192, 'e': 89, 'o': 68, 't': 65, 'i': 60, 's': 57, 'a': 48, 'r': 45, 'n': 42, 'l': 35, 'c': 31, 'd': 27, 'f': 26, 'u': 26, '0': 22, 'm': 20, 'y': 19, 'h': 17, 'w': 16, 'g': 14, '3': 13, '.': 12, 'p': 11, 'b': 11, '1': 11, '2': 10, '7': 10, 'k': 9, ',': 7, '4': 5, 'v': 4, '-': 4, '*': 4, '^': 4, 'T': 3, 'x': 3, '5': 3, '6': 3, '8': 3, '’': 3, '(': 3, ')': 3, 'q': 3, 'O': 3, ':': 2, '9': 2, 'S': 2, 'A': 2, '{': 2, '}': 2, '`': 2, 'I': 1, 'V': 1, 'F': 1, '[': 1, ']': 1, 'W': 1, '<': 1, 'N': 1, '>': 1, '“': 1, '”': 1, '‘': 1, 'E': 1, '/': 1, '\\\\': 1}\n",
         "hidden": false,
         "locked": false
        }
       ],
       "scored": true,
       "setup": "",
       "teardown": "",
       "type": "doctest"
      }
     ]
    },
    "q3": {
     "name": "q3",
     "points": null,
     "suites": [
      {
       "cases": [
        {
         "code": ">>> # BEGIN TEST CONFIG\n>>> points: 2\n>>> # END TEST CONFIG\n>>> def test_keyslist():\n...     assert list(dictionary.keys()) == ['T', 'h', 'e', ' ', 'f', 'o', 'l', 'w', 'i', 'n', 'g', 's', 'a', 'm', 'p', 't', 'x', 'I', 'u', 'd', 'r', 'c', 'k', 'y', 'b', '.', ':', '1', '2', '3', '4', '5', '6', '7', '8', '9', 'S', 'V', '’', '0', ',', '(', ')', 'q', 'A', 'v', 'F', '-', '{', '}', 'O', '[', ']', 'W', '<', 'N', '>', '`', '*', '^', '“', '”', '‘', 'E', '/', '\\\\']\n>>> test_keyslist() \n",
         "hidden": false,
         "locked": false
        }
       ],
       "scored": true,
       "setup": "",
       "teardown": "",
       "type": "doctest"
      }
     ]
    },
    "q4": {
     "name": "q4",
     "points": null,
     "suites": [
      {
       "cases": [
        {
         "code": ">>> # BEGIN TEST CONFIG\n>>> points: 2\n>>> # END TEST CONFIG\n>>> def test_valueslist():\n...     assert list(dictionary.values()) == [3, 17, 89, 192, 26, 68, 35, 16, 60, 42, 14, 57, 48, 20, 11, 65, 3, 1, 26, 27, 45, 31, 9, 19, 11, 12, 2, 11, 10, 13, 5, 3, 3, 10, 3, 2, 2, 1, 3, 22, 7, 3, 3, 3, 2, 4, 1, 4, 2, 2, 3, 1, 1, 1, 1, 1, 1, 2, 4, 4, 1, 1, 1, 1, 1, 1]\n",
         "hidden": false,
         "locked": false
        }
       ],
       "scored": true,
       "setup": "",
       "teardown": "",
       "type": "doctest"
      }
     ]
    },
    "q5": {
     "name": "q5",
     "points": null,
     "suites": [
      {
       "cases": [
        {
         "code": ">>> # BEGIN TEST CONFIG\n>>> points: 2\n>>> # END TEST CONFIG\n>>> def test_tuple():\n...     assert final_tuple == (('T', 'h', 'e', ' ', 'f', 'o', 'l', 'w', 'i', 'n', 'g', 's', 'a', 'm', 'p', 't', 'x', 'I', 'u', 'd', 'r', 'c', 'k', 'y', 'b', '.', ':', '1', '2', '3', '4', '5', '6', '7', '8', '9', 'S', 'V', '’', '0', ',', '(', ')', 'q', 'A', 'v', 'F', '-', '{', '}', 'O', '[', ']', 'W', '<', 'N', '>', '`', '*', '^', '“', '”', '‘', 'E', '/', '\\\\'), (3, 17, 89, 192, 26, 68, 35, 16, 60, 42, 14, 57, 48, 20, 11, 65, 3, 1, 26, 27, 45, 31, 9, 19, 11, 12, 2, 11, 10, 13, 5, 3, 3, 10, 3, 2, 2, 1, 3, 22, 7, 3, 3, 3, 2, 4, 1, 4, 2, 2, 3, 1, 1, 1, 1, 1, 1, 2, 4, 4, 1, 1, 1, 1, 1, 1))\n>>> test_tuple() \n",
         "hidden": false,
         "locked": false
        }
       ],
       "scored": true,
       "setup": "",
       "teardown": "",
       "type": "doctest"
      }
     ]
    },
    "q6": {
     "name": "q6",
     "points": 10,
     "suites": [
      {
       "cases": [
        {
         "code": ">>> assert_equal(greatest_common_divisor(10, 15), 5)\n",
         "hidden": false,
         "locked": false
        }
       ],
       "scored": true,
       "setup": "",
       "teardown": "",
       "type": "doctest"
      }
     ]
    },
    "q7": {
     "name": "q7",
     "points": 10,
     "suites": [
      {
       "cases": [
        {
         "code": ">>> assert_equal(get_nearest_farthest((3, 8), [(9, 3), (8,5), (7,6)]), ((7, 6), (9, 3)))\n",
         "hidden": false,
         "locked": false
        }
       ],
       "scored": true,
       "setup": "",
       "teardown": "",
       "type": "doctest"
      }
     ]
    },
    "q8": {
     "name": "q8",
     "points": 5,
     "suites": [
      {
       "cases": [
        {
         "code": ">>> assert_equal(perfectly_divisible(10,2), [0,2,4,6,8,10])\n",
         "hidden": false,
         "locked": false
        }
       ],
       "scored": true,
       "setup": "",
       "teardown": "",
       "type": "doctest"
      }
     ]
    },
    "q9": {
     "name": "q9",
     "points": 4,
     "suites": [
      {
       "cases": [
        {
         "code": ">>> assert_equal(flatten_lists([[2,13,44], [6,7]]), [2, 6, 7, 13, 44])\n",
         "hidden": false,
         "locked": false
        }
       ],
       "scored": true,
       "setup": "",
       "teardown": "",
       "type": "doctest"
      }
     ]
    }
   }
  },
  "varInspector": {
   "cols": {
    "lenName": 16,
    "lenType": 16,
    "lenVar": 40
   },
   "kernels_config": {
    "python": {
     "delete_cmd_postfix": "",
     "delete_cmd_prefix": "del ",
     "library": "var_list.py",
     "varRefreshCmd": "print(var_dic_list())"
    },
    "r": {
     "delete_cmd_postfix": ") ",
     "delete_cmd_prefix": "rm(",
     "library": "var_list.r",
     "varRefreshCmd": "cat(var_dic_list()) "
    }
   },
   "types_to_exclude": [
    "module",
    "function",
    "builtin_function_or_method",
    "instance",
    "_Feature"
   ],
   "window_display": false
  }
 },
 "nbformat": 4,
 "nbformat_minor": 4
}
